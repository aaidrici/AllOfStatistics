{
 "cells": [
  {
   "cell_type": "markdown",
   "id": "compressed-orlando",
   "metadata": {},
   "source": [
    "\n",
    "# Chapter 6 Notes\n",
    "\n",
    "### Introduction \n",
    "\n",
    "\n",
    "### Parametric vs. Non-parametric \n",
    "\n",
    "A <b>statistical model</b> $\\Im$ is a set of distribution. A <b>parametric model</b> is a set $\\Im$.  can takes a finite number of parameters. In General, a parametric Model takes the form: \n",
    "$$ \\Im = \\big\\{f(x;\\theta):  \\theta \\in \\Theta \\big\\}$$\n",
    "\n",
    "where $\\theta$ is an unknown parameter (or vector of parameter) that is part of the <b>parameter space</b> $\\Theta$. \n",
    "\n",
    "If $\\theta$ is a vector parameter but we are only interested in one of its component, then the other components are called <b>nuisance</b> components. \n",
    "\n",
    "Any function of a cumulative distribution function is called a <b>statistical functional</b>\n",
    "\n",
    "\n",
    "### Fundamental concepts in Inference \n",
    "\n",
    "#### Point estimate \n",
    "<b>Point estimate</b> refers to providing a single best guess of a quantity of interest. The quantity could be a cdf <b>F</b>, pdf <b>f</b>, a parameter from a parametric model, a regression function <b>r</b>, etc. By convention, a point estimate is denoted $\\theta$, $\\hat{\\theta}$ or $\\hat{\\theta_n}$. It is a fixed and unknown quantity. It depends on the data so it is a RV.  \n",
    "\n",
    "\n",
    "Let $X_1$, $X_2$... $X_n$ be n data points for some distribution $F$. A point estimator $\\hat{\\theta_n}$ is defined as: <br> \n",
    "$$\\hat{\\theta_n} = g(X_1, X_2... X_n)$$\n",
    "The bias of an estimator is defined as: \n",
    "$$\\text{Bias}(\\hat{\\theta_n}) = \\mathbb{E}(\\hat{\\theta_n}) - \\theta$$\n",
    "An unbias estimator has a bias value of zero. <br> \n",
    "A point estimator is considered <b>consistent</b> if it converges to its true value as the data set size increases, or more formally: $$\\hat{\\theta_n} \\xrightarrow[]{P} \\theta$$ \n",
    "\n",
    "The distribution of $\\hat{\\theta_n}$ is called the <b>sampling distribution</b>. The standard distribution of $\\hat{\\theta_n}$ is called the <b>standard error</b>: \n",
    "$$\\text{se} = \\text{se}(\\hat{\\theta_n}) = \\sqrt{\\mathbb{V}(\\hat{\\theta_n})}$$\n",
    "\n",
    "#### Confidence set \n",
    "\n",
    "#### Hypothese testing \n",
    "\n"
   ]
  }
 ],
 "metadata": {
  "kernelspec": {
   "display_name": "Python 3",
   "language": "python",
   "name": "python3"
  },
  "language_info": {
   "codemirror_mode": {
    "name": "ipython",
    "version": 3
   },
   "file_extension": ".py",
   "mimetype": "text/x-python",
   "name": "python",
   "nbconvert_exporter": "python",
   "pygments_lexer": "ipython3",
   "version": "3.9.2"
  }
 },
 "nbformat": 4,
 "nbformat_minor": 5
}
