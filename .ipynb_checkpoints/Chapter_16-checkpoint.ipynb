{
 "cells": [
  {
   "cell_type": "markdown",
   "id": "institutional-rocket",
   "metadata": {},
   "source": [
    "# Chapter 16 Notes\n",
    "\n",
    "# Chapter 16 Exercises\n",
    "\n",
    "### Exercise 16.1\n",
    "\n",
    "Measurement of association for the counterfactual model: <br> \n",
    "$\\alpha  = \\mathbb{E}(Y|X=1) - \\mathbb{E}(Y|X=0)$\n",
    "\n",
    "Measurement of causation for the counterfactual model: <br> \n",
    "$\\theta = \\mathbb{E}(C_1) - \\mathbb{E}(C_0)$ \n",
    "\n",
    "\n",
    "<br>\n",
    "<center><b>Region B</b></center> \n",
    "\n",
    "![title](img/table_chapter16.PNG)\n",
    "\n",
    "In this example $\\alpha = 0.25$ and $\\theta = -0.25$. This result could happen if a treatment has no impact on most subject and a negative impact on a few subjects (anti-responders) while all survivors are part of the treated group. \n",
    "\n",
    "### Exercise 16.2\n",
    "Recall that: <br> \n",
    "$r(x) = \\mathbb{E}(Y|X = x)$ <br>\n",
    "$\\theta(x) = \\mathbb{E}(C(X))$\n",
    "\n",
    "If $X$ is randomly assigned, then the treatment $X$ becomes independant of result $Y \\equiv C(x)$, therefore, $r(x) = \\mathbb{E}(Y|X = x) = \\mathbb{E}(Y) = \\mathbb{E}(C(x)) = \\theta(x)$ \n",
    "\n",
    "### Exercise 16.3\n",
    "\n",
    "$\\theta = \\mathbb{E}(C_1) - \\mathbb{E}(C_0) = \\big(\\mathbb{E}(C_1 | X=0)\\mathbb{P}(X=0) + \\mathbb{E}(C_1 | X=1)\\mathbb{P}(X=1)\\big) - \\big(\\mathbb{E}(C_0 | X=0)\\mathbb{P}(X=0) + \\mathbb{E}(C_0 | X=1)\\mathbb{P}(X=1)\\big)$\n",
    "\n",
    "The unobserved random variables must be put a bound to them: <br> \n",
    "$0 \\leq \\mathbb{E}(C_1 | X=0) \\leq 1$ <br> \n",
    "$0 \\leq \\mathbb{E}(C_0 | X=1) \\leq 1$ <br> \n",
    "\n",
    "Therefore: <br>\n",
    "\n",
    "\n",
    "$\n",
    "\\big(\\mathbb{E}(C_1 | X=1)\\mathbb{P}(X=1)\\big) - \\big(\\mathbb{E}(C_0 | X=0)\\mathbb{P}(X=0) + \\mathbb{P}(X=1)\\big)\n",
    "\\leq \\theta \\leq \n",
    "\\big(\\mathbb{P}(X=0) + \\mathbb{E}(C_1 | X=1)\\mathbb{P}(X=1)\\big) - \\big(\\mathbb{E}(C_0 | X=0)\\mathbb{P}(X=0)\\big)\n",
    "$ <br>\n",
    "\n",
    "$\n",
    "- \\mathbb{P}(X=1)  \\leq \\theta \\leq \\mathbb{P}(X=0) \n",
    "$ <br>\n",
    "\n",
    "The width of the bound is: <br> \n",
    "$\\text{lower bound} - \\text{upper bound} = \\mathbb{P}(X=0) - \\big(-\\mathbb{P}(X=1)\\big) = \\mathbb{P}(X=0) + \\mathbb{P}(X=1) = 1 $ \n",
    "\n",
    "### Exercise 16.4\n",
    "\n",
    "$\\beta_1$ is a RV that can have values $\\beta_{1,1}, \\beta_{1,2}, \\dots, \\beta_{1,k}$ given there are $k$ subjects. <br>\n",
    "Let  $0 < \\beta_{1,1} < \\beta_{1,2} < \\dots < \\beta_{1,k}$. This complies with the contraint $\\mathbb{P}(\\beta_1 > 0)$ and allows to have all values sorted by indices. <br>   \n",
    "Any joint distribution that <b>sufficiently</b> favours lower values of $X$ for higher values of $i$ in $\\beta_{1,i}$ should results in $\\mathbb{E}(Y|X=x)$ being a decreasing function of $x$.  "
   ]
  }
 ],
 "metadata": {
  "kernelspec": {
   "display_name": "Python 3",
   "language": "python",
   "name": "python3"
  },
  "language_info": {
   "codemirror_mode": {
    "name": "ipython",
    "version": 3
   },
   "file_extension": ".py",
   "mimetype": "text/x-python",
   "name": "python",
   "nbconvert_exporter": "python",
   "pygments_lexer": "ipython3",
   "version": "3.9.2"
  }
 },
 "nbformat": 4,
 "nbformat_minor": 5
}
